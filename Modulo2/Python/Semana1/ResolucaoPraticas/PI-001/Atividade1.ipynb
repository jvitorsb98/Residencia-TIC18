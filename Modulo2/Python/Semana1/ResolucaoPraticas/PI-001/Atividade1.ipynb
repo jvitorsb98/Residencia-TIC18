{
 "cells": [
  {
   "cell_type": "markdown",
   "metadata": {},
   "source": [
    "# PI-001 - Python básico\n"
   ]
  },
  {
   "cell_type": "markdown",
   "metadata": {},
   "source": [
    "__Objetivo__: Introduzir o __Python__ como linguagem de programação, configurar o ambiente de desenvolvimento e dar os primeiros passos. Ensinar a sintaxe básica de __Python__, variáveis, tipos de dados básicos e seus operadores.  Explorar o uso de tipos de dados avançados em __Python__: listas e tuplas, dicionários e conjuntos."
   ]
  },
  {
   "cell_type": "markdown",
   "metadata": {},
   "source": [
    "# Exercicio 2\n",
    "## Durante a aula foi apresentado o tipo de dado que permite representar um subconjunto dos números inteiros. Sobre estes tipos de dados:"
   ]
  },
  {
   "cell_type": "markdown",
   "metadata": {},
   "source": [
    "1. Demonstre como funcionam os operadores aritméticos e aritméticos compostos em Python e destaque as principais novidades e diferenças em relação ao conjunto de operadores com inteiros disponíveis em **C/C++**.    "
   ]
  },
  {
   "cell_type": "code",
   "execution_count": 1,
   "metadata": {},
   "outputs": [
    {
     "name": "stdout",
     "output_type": "stream",
     "text": [
      "Soma: 13\n",
      "Subtração: 7\n",
      "Multiplicação: 30\n",
      "Divisão: 3.3333333333333335\n",
      "Modulo: 1\n",
      "Modulo negativo: -1\n",
      "Atribuição com adição: 7\n",
      "Atribuição com subtração: 4\n",
      "Atribuição com multiplicação: 12\n",
      "Atribuição com divisão: 4.0\n",
      "Divisão Truncada: 0.0\n",
      "Exponenciação : 1.0\n"
     ]
    }
   ],
   "source": [
    "# Operadores aritméticos em Python\n",
    "a = 10\n",
    "b = 3\n",
    "\n",
    "#Operadores que tem no C/C++\n",
    "\n",
    "#-----------------------------------------------------#\n",
    "\n",
    "# Adição\n",
    "soma = a + b\n",
    "print(f\"Soma: {soma}\")\n",
    "\n",
    "# Subtração\n",
    "subtracao = a - b\n",
    "print(f\"Subtração: {subtracao}\")\n",
    "\n",
    "# Multiplicação\n",
    "multiplicacao = a * b\n",
    "print(f\"Multiplicação: {multiplicacao}\")\n",
    "\n",
    "# Divisão\n",
    "divisao = a / b\n",
    "print(f\"Divisão: {divisao}\")\n",
    "\n",
    "# Módulo\n",
    "mod = a%b\n",
    "print(f\"Modulo: {mod}\" )\n",
    "\n",
    "#unario negativo\n",
    " \n",
    "mod = -mod\n",
    "print(f\"Modulo negativo: {mod}\" )\n",
    "\n",
    "# Operadores aritméticos compostos\n",
    "c = 5\n",
    "\n",
    "# Atribuição com adição\n",
    "c += 2\n",
    "print(f\"Atribuição com adição: {c}\")\n",
    "\n",
    "# Atribuição com subtração\n",
    "c -= 3\n",
    "print(f\"Atribuição com subtração: {c}\")\n",
    "\n",
    "# Atribuição com multiplicação\n",
    "c *= 3\n",
    "print(f\"Atribuição com multiplicação: {c}\")\n",
    "\n",
    "# Atribuição com divisão\n",
    "c /= 3\n",
    "print(f\"Atribuição com divisão: {c}\")\n",
    "\n",
    "\n",
    "\n",
    "#-----------------------------------------------------#\n",
    "\n",
    "# Operadores novos\n",
    "\n",
    "#Divisão Truncada\n",
    "\n",
    "b = c // 5\n",
    "print(f\"Divisão Truncada: {b}\")\n",
    "\n",
    "#Exponenciação\n",
    "\n",
    "expo = a**b\n",
    "print(f\"Exponenciação : {expo}\")\n",
    "\n",
    "\n",
    "\n",
    "\n"
   ]
  },
  {
   "cell_type": "markdown",
   "metadata": {},
   "source": [
    "2. Demonstre a possibilidade de representar números inteiros significativamente grandes calculando o fatorial de 3º e comparando o resultado com o maior valor inteiro que pode ser representado em **C/C++**."
   ]
  },
  {
   "cell_type": "code",
   "execution_count": 7,
   "metadata": {},
   "outputs": [
    {
     "name": "stdout",
     "output_type": "stream",
     "text": [
      "Fatorial de 30 em Python: 265252859812191058636308480000000\n",
      "Maior Valor de um unsigned long long int em C/C++ : 18446744073709551615\n",
      "Fatorial de 30 é 14379386343318.525 vezes maior que o maior tamanho de um ull int \n"
     ]
    }
   ],
   "source": [
    "import math\n",
    "\n",
    "fatorial_python = math.factorial(30)\n",
    "print(f\"Fatorial de 30 em Python: {fatorial_python}\")\n",
    "print(\"Maior Valor de um unsigned long long int em C/C++ : 18446744073709551615\")\n",
    "vezesMaior = math.factorial(30) /18446744073709551615.0\n",
    "print(f\"Fatorial de 30 é {vezesMaior} vezes maior que o maior tamanho de um ull int \")\n"
   ]
  },
  {
   "cell_type": "markdown",
   "metadata": {},
   "source": [
    "3. As variáveis numéricas são imutáveis. Demonstre com exemplos as implicações desta afirmação."
   ]
  },
  {
   "cell_type": "code",
   "execution_count": 11,
   "metadata": {},
   "outputs": [
    {
     "name": "stdout",
     "output_type": "stream",
     "text": [
      "Valor final da variável num: 25\n",
      "Valor de a que aponta para espaço de memoria inicial que continha  num: 10\n"
     ]
    }
   ],
   "source": [
    "num = 10\n",
    "a = num\n",
    "num = 25\n",
    "print(\"Valor final da variável num:\", num)\n",
    "print(\"Valor de 'Aula-01.ipynba' que aponta para espaço de memoria inicial que continha  num:\", a)\n"
   ]
  },
  {
   "cell_type": "markdown",
   "metadata": {},
   "source": [
    "4. Verifique quais métodos estão disponíveis para as variáveis inteiras"
   ]
  },
  {
   "cell_type": "code",
   "execution_count": 12,
   "metadata": {},
   "outputs": [
    {
     "name": "stdout",
     "output_type": "stream",
     "text": [
      "Métodos disponíveis para variáveis inteiras em Python:\n",
      "__abs__\n",
      "__add__\n",
      "__and__\n",
      "__bool__\n",
      "__ceil__\n",
      "__class__\n",
      "__delattr__\n",
      "__dir__\n",
      "__divmod__\n",
      "__doc__\n",
      "__eq__\n",
      "__float__\n",
      "__floor__\n",
      "__floordiv__\n",
      "__format__\n",
      "__ge__\n",
      "__getattribute__\n",
      "__getnewargs__\n",
      "__gt__\n",
      "__hash__\n",
      "__index__\n",
      "__init__\n",
      "__init_subclass__\n",
      "__int__\n",
      "__invert__\n",
      "__le__\n",
      "__lshift__\n",
      "__lt__\n",
      "__mod__\n",
      "__mul__\n",
      "__ne__\n",
      "__neg__\n",
      "__new__\n",
      "__or__\n",
      "__pos__\n",
      "__pow__\n",
      "__radd__\n",
      "__rand__\n",
      "__rdivmod__\n",
      "__reduce__\n",
      "__reduce_ex__\n",
      "__repr__\n",
      "__rfloordiv__\n",
      "__rlshift__\n",
      "__rmod__\n",
      "__rmul__\n",
      "__ror__\n",
      "__round__\n",
      "__rpow__\n",
      "__rrshift__\n",
      "__rshift__\n",
      "__rsub__\n",
      "__rtruediv__\n",
      "__rxor__\n",
      "__setattr__\n",
      "__sizeof__\n",
      "__str__\n",
      "__sub__\n",
      "__subclasshook__\n",
      "__truediv__\n",
      "__trunc__\n",
      "__xor__\n",
      "as_integer_ratio\n",
      "bit_count\n",
      "bit_length\n",
      "conjugate\n",
      "denominator\n",
      "from_bytes\n",
      "imag\n",
      "numerator\n",
      "real\n",
      "to_bytes\n"
     ]
    }
   ],
   "source": [
    "numero = 42\n",
    "\n",
    "metodos_inteiro = dir(numero)\n",
    "\n",
    "print(\"Métodos disponíveis para variáveis inteiras em Python:\")\n",
    "for metodo in metodos_inteiro:\n",
    "    print(metodo)\n"
   ]
  },
  {
   "cell_type": "markdown",
   "metadata": {},
   "source": [
    "# Exercicio 3"
   ]
  },
  {
   "cell_type": "markdown",
   "metadata": {},
   "source": [
    "## Os caracteres numéricos aparecem na tabela **ASCII**, e em outras, numa sequência que começa pelo caractere **‘0’** até o caractere **‘9’**. As strings em **Python** são formadas por conjuntos de caracteres que podem ser tratadas também como valores numéricos. Com base nestas afirmações desenvolva um programa em **Python** que:"
   ]
  },
  {
   "cell_type": "markdown",
   "metadata": {},
   "source": [
    "1. mprima na tela, utilizando print, cada um dos caracteres numéricos e seu correspondente código numérico. Pesquise como modificar o\n",
    "comportamento do print para imprimir como caractere e como número.\n",
    "\n",
    "    Exemplo:‘0’ - 48 <br>\n",
    "    ‘1’ - 49 <br>\n",
    "    … <br>\n",
    "    ‘9’ - 57 <brs>"
   ]
  },
  {
   "cell_type": "code",
   "execution_count": 14,
   "metadata": {},
   "outputs": [
    {
     "name": "stdout",
     "output_type": "stream",
     "text": [
      "'0' - 48\n",
      "\n",
      "'1' - 49\n",
      "\n",
      "'2' - 50\n",
      "\n",
      "'3' - 51\n",
      "\n",
      "'4' - 52\n",
      "\n",
      "'5' - 53\n",
      "\n",
      "'6' - 54\n",
      "\n",
      "'7' - 55\n",
      "\n",
      "'8' - 56\n",
      "\n",
      "'9' - 57\n",
      "\n"
     ]
    }
   ],
   "source": [
    "for i in range(10):\n",
    "    print(f\"'{chr(ord('0') + i)}' - {ord('0') + i}\")\n",
    "    print()\n"
   ]
  },
  {
   "cell_type": "markdown",
   "metadata": {},
   "source": [
    "2. Modifique o exercício anterior para que a saída imprima também o código numérico em octal e em hexadecimal."
   ]
  },
  {
   "cell_type": "code",
   "execution_count": 16,
   "metadata": {},
   "outputs": [
    {
     "name": "stdout",
     "output_type": "stream",
     "text": [
      "'0' - Decimal: 48, Octal: 0o60, Hexadecimal: 0x30\n",
      "\n",
      "'1' - Decimal: 49, Octal: 0o61, Hexadecimal: 0x31\n",
      "\n",
      "'2' - Decimal: 50, Octal: 0o62, Hexadecimal: 0x32\n",
      "\n",
      "'3' - Decimal: 51, Octal: 0o63, Hexadecimal: 0x33\n",
      "\n",
      "'4' - Decimal: 52, Octal: 0o64, Hexadecimal: 0x34\n",
      "\n",
      "'5' - Decimal: 53, Octal: 0o65, Hexadecimal: 0x35\n",
      "\n",
      "'6' - Decimal: 54, Octal: 0o66, Hexadecimal: 0x36\n",
      "\n",
      "'7' - Decimal: 55, Octal: 0o67, Hexadecimal: 0x37\n",
      "\n",
      "'8' - Decimal: 56, Octal: 0o70, Hexadecimal: 0x38\n",
      "\n",
      "'9' - Decimal: 57, Octal: 0o71, Hexadecimal: 0x39\n",
      "\n"
     ]
    }
   ],
   "source": [
    "for i in range(10):\n",
    "    print(f\"'{chr(ord('0') + i)}' - Decimal: {ord('0') + i}, Octal: {oct(ord('0') + i)}, Hexadecimal: {hex(ord('0') + i)}\")\n",
    "    print()\n"
   ]
  },
  {
   "cell_type": "markdown",
   "metadata": {},
   "source": [
    "3 . Acrescente ao código do exercício anterior a possibilidade de ler um caractere qualquer e imprima no mesmo formato do inciso anterior. Pesquise como ler um valor da entrada padrão."
   ]
  },
  {
   "cell_type": "code",
   "execution_count": 19,
   "metadata": {},
   "outputs": [
    {
     "name": "stdout",
     "output_type": "stream",
     "text": [
      "'Ç' - Decimal: 199, Octal: 0o307, Hexadecimal: 0xc7\n"
     ]
    }
   ],
   "source": [
    "caractere = input(\"Digite um caractere: \")\n",
    "\n",
    "print(f\"'{caractere}' - Decimal: {ord(caractere)}, Octal: {oct(ord(caractere))}, Hexadecimal: {hex(ord(caractere))}\")\n"
   ]
  },
  {
   "cell_type": "markdown",
   "metadata": {},
   "source": [
    "4. Pesquise como trabalha Python os caracteres especiais, ‘ç’ e ‘ã’ por exemplo. Acrescente no código do exercício anterior um exemplo que demonstra como usar este recurso"
   ]
  },
  {
   "cell_type": "code",
   "execution_count": 20,
   "metadata": {},
   "outputs": [
    {
     "name": "stdout",
     "output_type": "stream",
     "text": [
      "'ç' - Decimal: 231, Octal: 0o347, Hexadecimal: 0xe7\n"
     ]
    }
   ],
   "source": [
    "# Python utiliza unicode por padrão, por isso não apresenta problema para essas caracteres especiais. O codigo se mantem o mesmo\n",
    "caractere = 'ç'\n",
    "\n",
    "print(f\"'{caractere}' - Decimal: {ord(caractere)}, Octal: {oct(ord(caractere))}, Hexadecimal: {hex(ord(caractere))}\")\n"
   ]
  },
  {
   "cell_type": "markdown",
   "metadata": {},
   "source": [
    "# Exercicio 4 "
   ]
  },
  {
   "cell_type": "markdown",
   "metadata": {},
   "source": [
    "## Manipulação de variáveis de tipo string e explorando os métodos da classe"
   ]
  },
  {
   "cell_type": "markdown",
   "metadata": {},
   "source": [
    "1. Declare uma variável nome atribuindo a ela seu nome completo"
   ]
  },
  {
   "cell_type": "code",
   "execution_count": 21,
   "metadata": {},
   "outputs": [],
   "source": [
    "nome = \"João Vitor Nascimento Ramos\""
   ]
  },
  {
   "cell_type": "markdown",
   "metadata": {},
   "source": [
    "2. Pesquise por funcionalidades já implementadas nas strings e separe em duas variáveis novas seu nome do seu sobrenome"
   ]
  },
  {
   "cell_type": "code",
   "execution_count": 23,
   "metadata": {},
   "outputs": [
    {
     "name": "stdout",
     "output_type": "stream",
     "text": [
      "Nome: João\n",
      "Sobrenome: ['Vitor', 'Nascimento', 'Ramos']\n"
     ]
    }
   ],
   "source": [
    "nome_completo = \"João Vitor Nascimento Ramos\"\n",
    "\n",
    "partes_do_nome = nome_completo.split()\n",
    "nome = partes_do_nome[0]\n",
    "sobrenome = ' '.join(partes_do_nome[1:])  \n",
    "print(\"Nome:\", nome)\n",
    "print(\"Sobrenome:\", sobrenome)\n"
   ]
  },
  {
   "cell_type": "markdown",
   "metadata": {},
   "source": [
    "3. Verifique qual das duas novas variáveis antecede a outra na ordem alfabética \n"
   ]
  },
  {
   "cell_type": "code",
   "execution_count": 24,
   "metadata": {},
   "outputs": [
    {
     "name": "stdout",
     "output_type": "stream",
     "text": [
      "Nome: João\n",
      "Sobrenome: Vitor Nascimento Ramos\n",
      "João antecede Vitor Nascimento Ramos na ordem alfabética.\n"
     ]
    }
   ],
   "source": [
    "nome_completo = \"João Vitor Nascimento Ramos\"\n",
    "\n",
    "partes_do_nome = nome_completo.split()\n",
    "nome = partes_do_nome[0]\n",
    "sobrenome = ' '.join(partes_do_nome[1:])  \n",
    "print(\"Nome:\", nome)\n",
    "print(\"Sobrenome:\", sobrenome)\n",
    "\n",
    "\n",
    "if nome < sobrenome:\n",
    "    print(f\"{nome} antecede {sobrenome} na ordem alfabética.\")\n",
    "elif nome > sobrenome:\n",
    "    print(f\"{sobrenome} antecede {nome} na ordem alfabética.\")\n",
    "else:\n",
    "    print(\"Os nomes são iguais.\")"
   ]
  },
  {
   "cell_type": "markdown",
   "metadata": {},
   "source": [
    "4. Verifique a quantidade de caracteres de cada uma das novas variáveis"
   ]
  },
  {
   "cell_type": "code",
   "execution_count": 25,
   "metadata": {},
   "outputs": [
    {
     "name": "stdout",
     "output_type": "stream",
     "text": [
      "Nome: João\n",
      "Sobrenome: Vitor Nascimento Ramos\n",
      "Quantidade de caracteres no nome: 4\n",
      "Quantidade de caracteres no sobrenome: 22\n"
     ]
    }
   ],
   "source": [
    "nome_completo = \"João Vitor Nascimento Ramos\"\n",
    "\n",
    "partes_do_nome = nome_completo.split()\n",
    "nome = partes_do_nome[0]\n",
    "sobrenome = ' '.join(partes_do_nome[1:])  \n",
    "print(\"Nome:\", nome)\n",
    "print(\"Sobrenome:\", sobrenome)\n",
    "\n",
    "len_nome = len(nome)\n",
    "len_sobrenome = len(sobrenome)\n",
    "\n",
    "print(f\"Quantidade de caracteres no nome: {len_nome}\")\n",
    "print(f\"Quantidade de caracteres no sobrenome: {len_sobrenome}\")"
   ]
  },
  {
   "cell_type": "markdown",
   "metadata": {},
   "source": [
    "5. Verifique se seu nome é uma palíndromo;"
   ]
  },
  {
   "cell_type": "code",
   "execution_count": 26,
   "metadata": {},
   "outputs": [
    {
     "name": "stdout",
     "output_type": "stream",
     "text": [
      "João não é um palíndromo.\n"
     ]
    }
   ],
   "source": [
    "nome_completo = \"João Vitor Nascimento Ramos\"\n",
    "\n",
    "partes_do_nome = nome_completo.split()\n",
    "nome = partes_do_nome[0]\n",
    "\n",
    "if nome == nome[::-1]:\n",
    "    print(f\"{nome} é um palíndromo.\")\n",
    "else:\n",
    "    print(f\"{nome} não é um palíndromo.\")"
   ]
  },
  {
   "cell_type": "markdown",
   "metadata": {},
   "source": [
    "# Exercicio 5\n",
    "\n",
    "## Manipulação de variáveis de ponto flutuante, explorando as características e os limites."
   ]
  },
  {
   "cell_type": "markdown",
   "metadata": {},
   "source": [
    "1. Demonstre como funcionam os operadores aritméticos e aritméticos compostos em Python"
   ]
  },
  {
   "cell_type": "code",
   "execution_count": null,
   "metadata": {},
   "outputs": [],
   "source": [
    "# Operadores aritméticos compostos\n",
    "c = 5\n",
    "\n",
    "# Atribuição com adição\n",
    "c += 2\n",
    "print(f\"Atribuição com adição: {c}\")\n",
    "\n",
    "# Atribuição com subtração\n",
    "c -= 3\n",
    "print(f\"Atribuição com subtração: {c}\")\n",
    "\n",
    "# Atribuição com multiplicação\n",
    "c *= 3\n",
    "print(f\"Atribuição com multiplicação: {c}\")\n",
    "\n",
    "# Atribuição com divisão\n",
    "c /= 3\n",
    "print(f\"Atribuição com divisão: {c}\")"
   ]
  },
  {
   "cell_type": "markdown",
   "metadata": {},
   "source": [
    "2. Utilizando o operador de exponenciação mostre qual a maior e a menor potência de 2 que pode ser representada com variáveis de ponto flutuante."
   ]
  },
  {
   "cell_type": "code",
   "execution_count": 27,
   "metadata": {},
   "outputs": [
    {
     "name": "stdout",
     "output_type": "stream",
     "text": [
      "Maior potência de 2 representável: 2^308 = 5.2148120994162844e+92\n",
      "Menor potência de 2 representável: 2^-307 = 3.835229269763849e-93\n"
     ]
    }
   ],
   "source": [
    "import sys\n",
    "\n",
    "maior_potencia = sys.float_info.max_10_exp\n",
    "\n",
    "menor_potencia = sys.float_info.min_10_exp\n",
    "\n",
    "maior_valor = 2.0 ** maior_potencia\n",
    "menor_valor = 2.0 ** menor_potencia\n",
    "\n",
    "print(f\"Maior potência de 2 representável: 2^{maior_potencia} = {maior_valor}\")\n",
    "print(f\"Menor potência de 2 representável: 2^{menor_potencia} = {menor_valor}\")\n"
   ]
  },
  {
   "cell_type": "markdown",
   "metadata": {},
   "source": [
    "3. As variáveis numéricas são imutáveis. Demonstre com exemplos as implicações desta afirmação;"
   ]
  },
  {
   "cell_type": "code",
   "execution_count": null,
   "metadata": {},
   "outputs": [],
   "source": [
    "num = 10\n",
    "a = num\n",
    "num = 25\n",
    "print(\"Valor final da variável num:\", num)\n",
    "print(\"Valor de 'Aula-01.ipynba' que aponta para espaço de memoria inicial que continha  num:\", a)\n"
   ]
  },
  {
   "cell_type": "markdown",
   "metadata": {},
   "source": [
    "4. Verifique quais métodos estão disponíveis para as variáveis de ponto flutuante"
   ]
  },
  {
   "cell_type": "code",
   "execution_count": 28,
   "metadata": {},
   "outputs": [
    {
     "name": "stdout",
     "output_type": "stream",
     "text": [
      "Métodos disponíveis para variáveis de ponto flutuante em Python:\n",
      "__abs__\n",
      "__add__\n",
      "__bool__\n",
      "__ceil__\n",
      "__class__\n",
      "__delattr__\n",
      "__dir__\n",
      "__divmod__\n",
      "__doc__\n",
      "__eq__\n",
      "__float__\n",
      "__floor__\n",
      "__floordiv__\n",
      "__format__\n",
      "__ge__\n",
      "__getattribute__\n",
      "__getformat__\n",
      "__getnewargs__\n",
      "__gt__\n",
      "__hash__\n",
      "__init__\n",
      "__init_subclass__\n",
      "__int__\n",
      "__le__\n",
      "__lt__\n",
      "__mod__\n",
      "__mul__\n",
      "__ne__\n",
      "__neg__\n",
      "__new__\n",
      "__pos__\n",
      "__pow__\n",
      "__radd__\n",
      "__rdivmod__\n",
      "__reduce__\n",
      "__reduce_ex__\n",
      "__repr__\n",
      "__rfloordiv__\n",
      "__rmod__\n",
      "__rmul__\n",
      "__round__\n",
      "__rpow__\n",
      "__rsub__\n",
      "__rtruediv__\n",
      "__setattr__\n",
      "__setformat__\n",
      "__sizeof__\n",
      "__str__\n",
      "__sub__\n",
      "__subclasshook__\n",
      "__truediv__\n",
      "__trunc__\n",
      "as_integer_ratio\n",
      "conjugate\n",
      "fromhex\n",
      "hex\n",
      "imag\n",
      "is_integer\n",
      "real\n"
     ]
    }
   ],
   "source": [
    "numero_decimal = 3.14\n",
    "\n",
    "metodos_ponto_flutuante = dir(numero_decimal)\n",
    "\n",
    "print(\"Métodos disponíveis para variáveis de ponto flutuante em Python:\")\n",
    "for metodo in metodos_ponto_flutuante:\n",
    "    print(metodo)\n"
   ]
  },
  {
   "cell_type": "markdown",
   "metadata": {},
   "source": [
    "# Exercicio 6\n",
    "\n",
    "## Dado o seguinte código, e antes de implementar, veja o que será impresso em cada caso:\n",
    "<p align=\"center\">\n",
    "  <img src=\"Figura6_1.png\">\n",
    "</p>\n"
   ]
  },
  {
   "cell_type": "markdown",
   "metadata": {},
   "source": [
    "#### 1 - Vai imprimir tudo do fim para o inicio\n",
    "#### 2 - Vai imprimir o ultimo valor\n",
    "#### 3 - Vai imprimir todos menos o ultimo valor\n",
    "#### 4 - Vai imprimir do ultimo ate o inicio saltando os valores de 2 em 2\n",
    "#### 5 - Vai imprimir os dois ultimos valores\n",
    "#### 6 - Vai imprimir todos menos os dois ultimos valores\n",
    "\n"
   ]
  },
  {
   "cell_type": "code",
   "execution_count": 38,
   "metadata": {},
   "outputs": [
    {
     "name": "stdout",
     "output_type": "stream",
     "text": [
      "[9, 8, 7, 6, 5, 4, 3, 2, 1]\n",
      "[9]\n",
      "[1, 2, 3, 4, 5, 6, 7, 8]\n",
      "[9, 7, 5, 3, 1]\n",
      "[8, 9]\n",
      "[1, 2, 3, 4, 5, 6, 7]\n"
     ]
    }
   ],
   "source": [
    "L = [1,2,3,4,5,6,7,8,9]\n",
    "print(L[::-1])\n",
    "print(L[-1::])\n",
    "print(L[:-1:])\n",
    "print(L[::-2])\n",
    "print(L[-2::])\n",
    "print(L[:-2:])\n"
   ]
  },
  {
   "cell_type": "markdown",
   "metadata": {},
   "source": [
    "2. Uma forma simplificada de determinar o seu animal no zodiaco chines é apresentada na seguinte tabela:\n",
    "\n",
    "\n",
    "<p align=\"center\">\n",
    "  <img src=\"Figura6_2.png\">\n",
    "</p>\n"
   ]
  },
  {
   "cell_type": "code",
   "execution_count": 42,
   "metadata": {},
   "outputs": [
    {
     "name": "stdout",
     "output_type": "stream",
     "text": [
      "Galo\n"
     ]
    }
   ],
   "source": [
    "signos_zodiaco_chines = [\n",
    "    \"Macaco\", \"Galo\", \"Cão\", \"Porco\",\n",
    "    \"Rato\", \"Boi\", \"Tigre\", \"Coelho\",\n",
    "    \"Dragão\", \"Serpente\", \"Cavalo\", \"Cabra\"\n",
    "]\n",
    "\n",
    "anoNascimento = int(input(\"Digite o ano de nascimento: \"))\n",
    "print(signos_zodiaco_chines[anoNascimento%12])"
   ]
  }
 ],
 "metadata": {
  "kernelspec": {
   "display_name": "Python 3 (ipykernel)",
   "language": "python",
   "name": "python3"
  },
  "language_info": {
   "codemirror_mode": {
    "name": "ipython",
    "version": 3
   },
   "file_extension": ".py",
   "mimetype": "text/x-python",
   "name": "python",
   "nbconvert_exporter": "python",
   "pygments_lexer": "ipython3",
   "version": "3.10.12"
  }
 },
 "nbformat": 4,
 "nbformat_minor": 4
}
